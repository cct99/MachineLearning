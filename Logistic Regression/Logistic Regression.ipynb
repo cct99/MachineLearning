{
  "nbformat": 4,
  "nbformat_minor": 0,
  "metadata": {
    "colab": {
      "provenance": []
    },
    "kernelspec": {
      "name": "python3",
      "display_name": "Python 3"
    },
    "language_info": {
      "name": "python"
    }
  },
  "cells": [
    {
      "cell_type": "markdown",
      "source": [
        "**Dataset-1:** This part of the lab will use a dataset that represents student admission into University based on Exam-1 and Exam-2 test scores. The dataset is uploaded in iLearn as Dataset-1. You need to upload it to your Google Colab. "
      ],
      "metadata": {
        "id": "4z00pE6jf1HJ"
      }
    },
    {
      "cell_type": "markdown",
      "source": [
        "**Step-1: Import Libraries:** The first step in any project is to import the libraries we are going to use. "
      ],
      "metadata": {
        "id": "F2HOz7tDgSxu"
      }
    },
    {
      "cell_type": "code",
      "source": [
        "import pandas as pd\n",
        "import numpy as np\n",
        "import matplotlib as mpl\n",
        "import matplotlib.pyplot as plt\n",
        "from scipy.optimize import minimize\n",
        "from sklearn.preprocessing import PolynomialFeatures"
      ],
      "metadata": {
        "id": "NGOrwTz3gVCh"
      },
      "execution_count": null,
      "outputs": []
    },
    {
      "cell_type": "markdown",
      "source": [
        "**Step-2: Load the Data:** The next step is to load the data. In this lab, the dataset is saved as .txt file (previous lab the data was saved as .csv file). Here, we will implement a function that helps us to load the data. "
      ],
      "metadata": {
        "id": "w_wToaLYgjAe"
      }
    },
    {
      "cell_type": "code",
      "source": [
        "def loaddata(file, delimeter):\n",
        "    data = np.loadtxt(file, delimiter=delimeter)\n",
        "    print('Dimensions: ',data.shape)\n",
        "    print(data[1:6,:])\n",
        "    return(data)"
      ],
      "metadata": {
        "id": "aHp-batmg77R"
      },
      "execution_count": null,
      "outputs": []
    },
    {
      "cell_type": "markdown",
      "source": [
        "Now, let's load the data for this problem."
      ],
      "metadata": {
        "id": "aIHZq15HhV2n"
      }
    },
    {
      "cell_type": "code",
      "source": [
        "data = loaddata('Dataset-1.txt', ',')"
      ],
      "metadata": {
        "colab": {
          "base_uri": "https://localhost:8080/"
        },
        "id": "n3nDo3hThYZp",
        "outputId": "549fd365-0dd0-4ce1-8e63-8e9c803a66fa"
      },
      "execution_count": null,
      "outputs": [
        {
          "output_type": "stream",
          "name": "stdout",
          "text": [
            "Dimensions:  (100, 3)\n",
            "[[30.28671077 43.89499752  0.        ]\n",
            " [35.84740877 72.90219803  0.        ]\n",
            " [60.18259939 86.3085521   1.        ]\n",
            " [79.03273605 75.34437644  1.        ]\n",
            " [45.08327748 56.31637178  0.        ]]\n"
          ]
        }
      ]
    },
    {
      "cell_type": "markdown",
      "source": [
        "*Process the data:* Let's separate our X (features) and Y (labels) parts of the data. "
      ],
      "metadata": {
        "id": "lrQtia3KiSkg"
      }
    },
    {
      "cell_type": "code",
      "source": [
        "X = np.c_[np.ones((data.shape[0],1)), data[:,0:2]]\n",
        "y = np.c_[data[:,2]]"
      ],
      "metadata": {
        "id": "-K4jNrTPiX66"
      },
      "execution_count": null,
      "outputs": []
    },
    {
      "cell_type": "markdown",
      "source": [
        "*Plot the data:* We will implement a function to help us with the scatter plot."
      ],
      "metadata": {
        "id": "lAgD8Ar0hjsG"
      }
    },
    {
      "cell_type": "code",
      "source": [
        "def plotData(data, label_x, label_y, label_pos, label_neg, axes=None):\n",
        "    # Get indexes for class 0 and class 1\n",
        "    neg = data[:,2] == 0\n",
        "    pos = data[:,2] == 1\n",
        "    \n",
        "    # If no specific axes object has been passed, get the current axes.\n",
        "    if axes == None:\n",
        "        axes = plt.gca()\n",
        "    axes.scatter(data[pos][:,0], data[pos][:,1], marker='+', c='k', s=60, linewidth=2, label=label_pos)\n",
        "    axes.scatter(data[neg][:,0], data[neg][:,1], c='y', s=60, label=label_neg)\n",
        "    axes.set_xlabel(label_x)\n",
        "    axes.set_ylabel(label_y)\n",
        "    axes.legend(frameon= True, fancybox = True);"
      ],
      "metadata": {
        "id": "dWfkr3mAhoKB"
      },
      "execution_count": null,
      "outputs": []
    },
    {
      "cell_type": "markdown",
      "source": [
        "Let's plot the data by calling our plot function. "
      ],
      "metadata": {
        "id": "AJHFqU-nirWQ"
      }
    },
    {
      "cell_type": "code",
      "source": [
        "plotData(data, 'Exam 1 score', 'Exam 2 score', 'Admitted', 'Not admitted')"
      ],
      "metadata": {
        "colab": {
          "base_uri": "https://localhost:8080/",
          "height": 279
        },
        "id": "3UbUSM8visQL",
        "outputId": "90f871c1-0061-4116-8b7d-f4b6172c968e"
      },
      "execution_count": null,
      "outputs": [
        {
          "output_type": "display_data",
          "data": {
            "text/plain": [
              "<Figure size 432x288 with 1 Axes>"
            ],
            "image/png": "[encoded data removed]"
          },
          "metadata": {
            "needs_background": "light"
          }
        }
      ]
    },
    {
      "cell_type": "markdown",
      "source": [
        "# Assignment 2 \n",
        "\n",
        "\n",
        "---\n",
        "\n",
        "1. Loading the data for assignment 2.\n",
        "\n",
        "---\n",
        "\n"
      ],
      "metadata": {
        "id": "jmXP-SN92suM"
      }
    },
    {
      "cell_type": "code",
      "source": [
        "data2 = loaddata('Dataset-2.txt', ',')"
      ],
      "metadata": {
        "colab": {
          "base_uri": "https://localhost:8080/"
        },
        "id": "kl0ioHWK233T",
        "outputId": "f2a4c56b-6cf7-41da-c2b2-398dc0af5995"
      },
      "execution_count": null,
      "outputs": [
        {
          "output_type": "stream",
          "name": "stdout",
          "text": [
            "Dimensions:  (118, 3)\n",
            "[[-0.092742  0.68494   1.      ]\n",
            " [-0.21371   0.69225   1.      ]\n",
            " [-0.375     0.50219   1.      ]\n",
            " [-0.51325   0.46564   1.      ]\n",
            " [-0.52477   0.2098    1.      ]]\n"
          ]
        }
      ]
    },
    {
      "cell_type": "markdown",
      "source": [
        "---\n",
        "2. Plot accepted/rejected microchips against test 1/test 2 scores\n",
        "\n",
        "\n",
        "---\n",
        "\n"
      ],
      "metadata": {
        "id": "56NED5ZSiKX2"
      }
    },
    {
      "cell_type": "code",
      "source": [
        "plotData(data2, 'Test 1 score', 'Test 2 score', 'Accepted', 'Rejected')"
      ],
      "metadata": {
        "colab": {
          "base_uri": "https://localhost:8080/",
          "height": 279
        },
        "id": "kuvtbfa13aJ4",
        "outputId": "5dda0ae7-8254-42b7-d510-921cbb578ffa"
      },
      "execution_count": null,
      "outputs": [
        {
          "output_type": "display_data",
          "data": {
            "text/plain": [
              "<Figure size 432x288 with 1 Axes>"
            ],
            "image/png": "[encoded data removed]"
          },
          "metadata": {
            "needs_background": "light"
          }
        }
      ]
    },
    {
      "cell_type": "markdown",
      "source": [
        "\n",
        "\n",
        "---\n",
        "\n",
        "\n",
        "3. Separating features and labels into X and y, respectively. For assignment purpose, we do not add column of ones in the features, X.\n",
        "Also, use polynomial features in sklearn to generate polynomial and interaction features.\n",
        "\n",
        "\n",
        "---"
      ],
      "metadata": {
        "id": "8ioR6K28pupi"
      }
    },
    {
      "cell_type": "code",
      "source": [
        "X_2 = data2[:,0:2]\n",
        "y = np.c_[data2[:,2]]\n",
        "poly = PolynomialFeatures(6)\n",
        "X_poly = poly.fit_transform(X_2)"
      ],
      "metadata": {
        "id": "2KdDCX4mpvPJ"
      },
      "execution_count": null,
      "outputs": []
    },
    {
      "cell_type": "markdown",
      "source": [
        "**Assignment Question**: Can this dataset be separated into positive and negative examples by a linear decision boundary? \n",
        "\n",
        "**Answer**: No. The classes of the dataset are distributed in the form of concentric circles. To separate dataset into positive and negative examples by a linear decision boundary means to construct a straight line to separate them. In this case, it is not possible to separate the positive and negative examples of the dataset with a straight line. Hence, if the dataset is not linearly separable, the linear decision boundary would not work to accurately classify the data. "
      ],
      "metadata": {
        "id": "xkBDFT25jJl9"
      }
    },
    {
      "cell_type": "markdown",
      "source": [
        "**Step-3: Implement a Logistic Regression Model:** "
      ],
      "metadata": {
        "id": "GzYULiymjDUa"
      }
    },
    {
      "cell_type": "markdown",
      "source": [
        "*Step-3.1: Sigmoid Function:* Let's implement the Sigmoid function."
      ],
      "metadata": {
        "id": "0E73fD0KjFdo"
      }
    },
    {
      "cell_type": "code",
      "source": [
        "def sigmoid(z):\n",
        "    return(1 / (1 + np.exp(-z)))"
      ],
      "metadata": {
        "id": "MI3N20TJjPvw"
      },
      "execution_count": null,
      "outputs": []
    },
    {
      "cell_type": "markdown",
      "source": [
        "Let's test it:"
      ],
      "metadata": {
        "id": "89i0v0KPjVBe"
      }
    },
    {
      "cell_type": "code",
      "source": [
        "sigmoid(0)"
      ],
      "metadata": {
        "colab": {
          "base_uri": "https://localhost:8080/"
        },
        "id": "29lbYOSFjNaV",
        "outputId": "c97b272d-d2b9-4f45-9591-048463a3fa18"
      },
      "execution_count": null,
      "outputs": [
        {
          "output_type": "execute_result",
          "data": {
            "text/plain": [
              "0.5"
            ]
          },
          "metadata": {},
          "execution_count": 263
        }
      ]
    },
    {
      "cell_type": "markdown",
      "source": [
        "*Step-3.2: Cost Function and Gradient:* Let's first implement a function to calculate the cost  $J$. This function will return the cost value. "
      ],
      "metadata": {
        "id": "x-A8m6zJjfgH"
      }
    },
    {
      "cell_type": "code",
      "source": [
        "def costFunction(theta, X_poly, y, reg):\n",
        "    m = y.size\n",
        "    f = sigmoid(X_poly.dot(theta.reshape(-1, 1)))\n",
        "    reg_term = (reg/(2*m)) * np.sum(np.square(theta[1:]))\n",
        "    J = -1*(1/m)*(np.log(f).T.dot(y)+np.log(1-f).T.dot(1-y)) + reg_term\n",
        "               \n",
        "    if np.isnan(J[0]):\n",
        "        return(np.inf)\n",
        "    return(J[0])"
      ],
      "metadata": {
        "id": "-5TKTFRZjuU3"
      },
      "execution_count": null,
      "outputs": []
    },
    {
      "cell_type": "markdown",
      "source": [
        "Let's implement another function to get the gradient."
      ],
      "metadata": {
        "id": "ob89M6K1kG9D"
      }
    },
    {
      "cell_type": "code",
      "source": [
        "def gradient(theta, X_poly, y, reg):\n",
        "    m = y.size\n",
        "    f = sigmoid(X_poly.dot(theta.reshape(-1, 1)))\n",
        "    reg_term = (reg/m) * np.r_[[[0]],theta[1:].reshape(-1,1)]\n",
        "    grad = (1/m) * X_poly.T.dot(f-y) + reg_term\n",
        "\n",
        "    return(grad.flatten())"
      ],
      "metadata": {
        "id": "7gJlMSFHkJ3k"
      },
      "execution_count": null,
      "outputs": []
    },
    {
      "cell_type": "markdown",
      "source": [
        "Let's test our cost and gradient functions."
      ],
      "metadata": {
        "id": "Q2I-uvNMkSj5"
      }
    },
    {
      "cell_type": "code",
      "source": [
        "initial_theta = np.zeros(X_poly.shape[1])\n",
        "reg = 0\n",
        "cost = costFunction(initial_theta, X_poly, y, reg)\n",
        "grad = gradient(initial_theta, X_poly, y, reg)\n",
        "print('Cost: \\n', cost)\n",
        "print('Grad: \\n', grad)"
      ],
      "metadata": {
        "colab": {
          "base_uri": "https://localhost:8080/"
        },
        "id": "xG7-jBo4kVah",
        "outputId": "2c49f903-2ead-4d9c-8b21-7a6ce4733bed"
      },
      "execution_count": null,
      "outputs": [
        {
          "output_type": "stream",
          "name": "stdout",
          "text": [
            "Cost: \n",
            " [0.69314718]\n",
            "Grad: \n",
            " [8.47457627e-03 1.87880932e-02 7.77711864e-05 5.03446395e-02\n",
            " 1.15013308e-02 3.76648474e-02 1.83559872e-02 7.32393391e-03\n",
            " 8.19244468e-03 2.34764889e-02 3.93486234e-02 2.23923907e-03\n",
            " 1.28600503e-02 3.09593720e-03 3.93028171e-02 1.99707467e-02\n",
            " 4.32983232e-03 3.38643902e-03 5.83822078e-03 4.47629067e-03\n",
            " 3.10079849e-02 3.10312442e-02 1.09740238e-03 6.31570797e-03\n",
            " 4.08503006e-04 7.26504316e-03 1.37646175e-03 3.87936363e-02]\n"
          ]
        }
      ]
    },
    {
      "cell_type": "markdown",
      "source": [
        "*Step-3.3: Finding the Optimal $\\theta$:* Next, train our model to get the optimal $\\theta$ values. This will be done by minimizing the cost function. We will use the built-in minimization function in python.   "
      ],
      "metadata": {
        "id": "rf3OCO4DkcTm"
      }
    },
    {
      "cell_type": "code",
      "source": [
        "opt_theta = minimize(costFunction, initial_theta, args=(X_poly,y, reg), method=None, jac=gradient, options={'maxiter':400})"
      ],
      "metadata": {
        "id": "kiW5i_VGku1g"
      },
      "execution_count": null,
      "outputs": []
    },
    {
      "cell_type": "markdown",
      "source": [
        "Let's print the optimal values of $\\theta$. "
      ],
      "metadata": {
        "id": "oYSArWaOmKUx"
      }
    },
    {
      "cell_type": "code",
      "source": [
        "print('Thetas: \\n', opt_theta)"
      ],
      "metadata": {
        "colab": {
          "base_uri": "https://localhost:8080/"
        },
        "id": "LKV4YCD0l00t",
        "outputId": "a47c373d-a4b6-4c1a-a152-c55ed77dfafc"
      },
      "execution_count": null,
      "outputs": [
        {
          "output_type": "stream",
          "name": "stdout",
          "text": [
            "Thetas: \n",
            "       fun: 0.26349926856428674\n",
            " hess_inv: array([[ 2.75706843e+03,  2.40359231e+03,  3.72927678e+03,\n",
            "        -2.35694736e+04, -4.93583962e+03, -1.73013751e+04,\n",
            "        -1.41512964e+04, -1.98289507e+04, -5.29971572e+03,\n",
            "        -1.47407272e+04,  6.31956652e+04,  3.54370295e+04,\n",
            "         9.80396630e+04,  1.84858829e+04,  3.70133832e+04,\n",
            "         1.94362519e+04,  3.14469047e+04,  2.28766701e+04,\n",
            "         2.06724231e+04, -1.21562796e+04,  1.22294868e+04,\n",
            "        -5.43110802e+04, -5.42501053e+04, -1.27472378e+05,\n",
            "        -5.00970130e+04, -8.32164723e+04,  1.22453535e+02,\n",
            "        -2.38654291e+04],\n",
            "       [ 2.40359231e+03,  4.34450415e+03,  2.53625581e+03,\n",
            "        -2.06319759e+04, -4.38679776e+03, -1.52536265e+04,\n",
            "        -2.30236341e+04, -1.16178997e+04, -8.56917356e+03,\n",
            "        -1.31628521e+04,  5.86031322e+04,  3.64629481e+04,\n",
            "         9.18763822e+04,  1.50735649e+04,  3.25984981e+04,\n",
            "         2.98675022e+04,  1.84595479e+04,  2.11414264e+04,\n",
            "         6.54369489e+03, -6.20766499e+03,  1.77456963e+04,\n",
            "        -5.47260901e+04, -4.93867723e+04, -1.14584339e+05,\n",
            "        -4.52748425e+04, -7.65376239e+04, -1.27739360e+03,\n",
            "        -2.69146989e+04],\n",
            "       [ 3.72927678e+03,  2.53625581e+03,  8.75611873e+03,\n",
            "        -3.05077214e+04, -5.87140674e+03, -2.33500217e+04,\n",
            "        -1.36483205e+04, -4.28340138e+04, -1.00541488e+04,\n",
            "        -3.26212781e+04,  7.47082671e+04,  4.70808198e+04,\n",
            "         1.49734505e+05,  3.40433624e+04,  5.49985787e+04,\n",
            "         1.67032793e+04,  6.37042920e+04,  4.92590759e+04,\n",
            "         4.83916820e+04, -3.46812158e+04,  1.87249270e+04,\n",
            "        -5.53884037e+04, -7.76981257e+04, -2.09699599e+05,\n",
            "        -9.51598430e+04, -1.28641676e+05,  1.48333042e+04,\n",
            "        -3.00826855e+04],\n",
            "       [-2.35694736e+04, -2.06319759e+04, -3.05077214e+04,\n",
            "         2.23749859e+05,  4.50049584e+04,  1.45205336e+05,\n",
            "         1.33807668e+05,  1.69504782e+05,  3.52410514e+04,\n",
            "         1.21960075e+05, -6.41112239e+05, -3.32122557e+05,\n",
            "        -8.90769697e+05, -1.63831432e+05, -3.10478638e+05,\n",
            "        -1.95380700e+05, -2.66270834e+05, -1.84627656e+05,\n",
            "        -1.87808059e+05,  1.03321930e+05, -1.09539266e+05,\n",
            "         5.81167578e+05,  5.05783856e+05,  1.16916786e+06,\n",
            "         4.52415252e+05,  7.88145143e+05,  2.63490207e+04,\n",
            "         2.10036588e+05],\n",
            "       [-4.93583962e+03, -4.38679776e+03, -5.87140674e+03,\n",
            "         4.50049584e+04,  1.68952105e+04,  3.16898759e+04,\n",
            "         2.91328971e+04,  3.32829787e+04,  1.22304543e+04,\n",
            "         2.82855882e+04, -1.22247586e+05, -7.13028658e+04,\n",
            "        -1.84289873e+05, -4.94032758e+04, -6.78824589e+04,\n",
            "        -4.17192101e+04, -4.87220316e+04, -3.63253336e+04,\n",
            "        -3.00454679e+04,  1.37207103e+04, -3.47148233e+04,\n",
            "         1.03583336e+05,  8.42945901e+04,  2.42045279e+05,\n",
            "         8.11353134e+04,  1.36297157e+05,  9.01939458e+03,\n",
            "         5.34827173e+04],\n",
            "       [-1.73013751e+04, -1.52536265e+04, -2.33500217e+04,\n",
            "         1.45205336e+05,  3.16898759e+04,  1.31163495e+05,\n",
            "         9.25692660e+04,  1.28136870e+05,  4.29863676e+04,\n",
            "         1.09662030e+05, -3.91703904e+05, -2.40847771e+05,\n",
            "        -6.94568820e+05, -1.35054077e+05, -3.12730286e+05,\n",
            "        -1.32154847e+05, -2.40880395e+05, -1.94089223e+05,\n",
            "        -1.22790665e+05,  1.00368371e+05, -9.90081836e+04,\n",
            "         3.42596877e+05,  4.05250144e+05,  9.34537776e+05,\n",
            "         3.64235745e+05,  6.00294397e+05, -1.81805272e+04,\n",
            "         2.13013549e+05],\n",
            "       [-1.41512964e+04, -2.30236341e+04, -1.36483205e+04,\n",
            "         1.33807668e+05,  2.91328971e+04,  9.25692660e+04,\n",
            "         1.50002806e+05,  6.52627409e+04,  2.58569320e+04,\n",
            "         7.71827446e+04, -4.10366234e+05, -2.40937076e+05,\n",
            "        -5.97906069e+05, -9.06969680e+04, -2.01329315e+05,\n",
            "        -2.24976517e+05, -1.25520758e+05, -1.15697555e+05,\n",
            "        -4.81010212e+04,  4.91617690e+04, -1.18275130e+05,\n",
            "         4.16998389e+05,  3.47245046e+05,  7.82634428e+05,\n",
            "         3.03257899e+05,  5.46592647e+05,  2.76435886e+04,\n",
            "         1.79093849e+05],\n",
            "       [-1.98289507e+04, -1.16178997e+04, -4.28340138e+04,\n",
            "         1.69504782e+05,  3.32829787e+04,  1.28136870e+05,\n",
            "         6.52627409e+04,  2.71902850e+05,  3.82463572e+04,\n",
            "         1.46483687e+05, -4.15486875e+05, -2.79255777e+05,\n",
            "        -8.37066290e+05, -1.60903519e+05, -2.90845780e+05,\n",
            "        -7.56844757e+04, -4.00858466e+05, -2.98374528e+05,\n",
            "        -3.68875888e+05,  2.24966497e+05, -4.89606671e+04,\n",
            "         3.02675092e+05,  4.58498029e+05,  1.18154460e+06,\n",
            "         5.86995868e+05,  7.83961899e+05, -1.41829075e+05,\n",
            "         1.24669442e+05],\n",
            "       [-5.29971572e+03, -8.56917356e+03, -1.00541488e+04,\n",
            "         3.52410514e+04,  1.22304543e+04,  4.29863676e+04,\n",
            "         2.58569320e+04,  3.82463572e+04,  6.62290321e+04,\n",
            "         5.51637028e+04, -6.59477035e+04, -5.70067109e+04,\n",
            "        -1.95927346e+05, -7.25857097e+04, -1.10883168e+05,\n",
            "        -1.31655190e+04, -4.03702731e+04, -7.90980241e+04,\n",
            "         5.04936025e+03, -7.12255132e+03, -4.98283848e+04,\n",
            "         1.90342948e+04,  3.76817739e+04,  2.33700803e+05,\n",
            "         1.00249879e+05,  6.24469179e+04, -2.11668525e+04,\n",
            "         7.46856749e+04],\n",
            "       [-1.47407272e+04, -1.31628521e+04, -3.26212781e+04,\n",
            "         1.21960075e+05,  2.82855882e+04,  1.09662030e+05,\n",
            "         7.71827446e+04,  1.46483687e+05,  5.51637028e+04,\n",
            "         1.57274656e+05, -3.11147109e+05, -2.01595309e+05,\n",
            "        -6.79297685e+05, -1.76259784e+05, -2.89018121e+05,\n",
            "        -1.05944616e+05, -2.64322907e+05, -2.31670943e+05,\n",
            "        -1.22743501e+05,  1.42372065e+05, -1.47754282e+05,\n",
            "         2.46155024e+05,  3.45627941e+05,  9.81663874e+05,\n",
            "         4.13244202e+05,  5.57526493e+05, -3.67321313e+04,\n",
            "         2.18042304e+05],\n",
            "       [ 6.31956652e+04,  5.86031322e+04,  7.47082671e+04,\n",
            "        -6.41112239e+05, -1.22247586e+05, -3.91703904e+05,\n",
            "        -4.10366234e+05, -4.15486875e+05, -6.59477035e+04,\n",
            "        -3.11147109e+05,  1.95847599e+06,  9.71499909e+05,\n",
            "         2.51610801e+06,  4.28872757e+05,  8.42409085e+05,\n",
            "         6.36732186e+05,  6.80309309e+05,  4.72927408e+05,\n",
            "         4.79386585e+05, -2.69784218e+05,  3.15970681e+05,\n",
            "        -1.89338175e+06, -1.51384617e+06, -3.32673245e+06,\n",
            "        -1.25426130e+06, -2.34894704e+06, -1.46772139e+05,\n",
            "        -6.06585326e+05],\n",
            "       [ 3.54370295e+04,  3.64629481e+04,  4.70808198e+04,\n",
            "        -3.32122557e+05, -7.13028658e+04, -2.40847771e+05,\n",
            "        -2.40937076e+05, -2.79255777e+05, -5.70067109e+04,\n",
            "        -2.01595309e+05,  9.71499909e+05,  5.82619188e+05,\n",
            "         1.50310632e+06,  2.46114352e+05,  5.43556063e+05,\n",
            "         3.59133837e+05,  4.72490643e+05,  3.77965296e+05,\n",
            "         3.27607815e+05, -2.30474418e+05,  1.82825174e+05,\n",
            "        -9.27688739e+05, -9.33157124e+05, -1.99203367e+06,\n",
            "        -7.82566941e+05, -1.43374304e+06,  2.80466423e+04,\n",
            "        -3.70348979e+05],\n",
            "       [ 9.80396630e+04,  9.18763822e+04,  1.49734505e+05,\n",
            "        -8.90769697e+05, -1.84289873e+05, -6.94568820e+05,\n",
            "        -5.97906069e+05, -8.37066290e+05, -1.95927346e+05,\n",
            "        -6.79297685e+05,  2.51610801e+06,  1.50310632e+06,\n",
            "         4.27079607e+06,  8.06481698e+05,  1.64996376e+06,\n",
            "         8.84562098e+05,  1.49549321e+06,  1.20389723e+06,\n",
            "         9.12474310e+05, -7.45467521e+05,  6.26818388e+05,\n",
            "        -2.29939126e+06, -2.51701695e+06, -5.86181397e+06,\n",
            "        -2.40994147e+06, -3.92800418e+06,  1.42227098e+05,\n",
            "        -1.16009956e+06],\n",
            "       [ 1.84858829e+04,  1.50735649e+04,  3.40433624e+04,\n",
            "        -1.63831432e+05, -4.94032758e+04, -1.35054077e+05,\n",
            "        -9.06969680e+04, -1.60903519e+05, -7.25857097e+04,\n",
            "        -1.76259784e+05,  4.28872757e+05,  2.46114352e+05,\n",
            "         8.06481698e+05,  2.46019024e+05,  3.46886231e+05,\n",
            "         1.24141827e+05,  2.74938152e+05,  2.18265326e+05,\n",
            "         1.08681163e+05, -1.16647620e+05,  1.92248184e+05,\n",
            "        -3.34257307e+05, -3.65501350e+05, -1.13813687e+06,\n",
            "        -4.15070809e+05, -5.80628221e+05, -1.71457774e+04,\n",
            "        -2.82798020e+05],\n",
            "       [ 3.70133832e+04,  3.25984981e+04,  5.49985787e+04,\n",
            "        -3.10478638e+05, -6.78824589e+04, -3.12730286e+05,\n",
            "        -2.01329315e+05, -2.90845780e+05, -1.10883168e+05,\n",
            "        -2.89018121e+05,  8.42409085e+05,  5.43556063e+05,\n",
            "         1.64996376e+06,  3.46886231e+05,  8.07941202e+05,\n",
            "         2.92989774e+05,  6.07565369e+05,  5.17369146e+05,\n",
            "         2.44532517e+05, -2.81253860e+05,  2.80267163e+05,\n",
            "        -7.38673324e+05, -9.87102054e+05, -2.29702872e+06,\n",
            "        -8.82312644e+05, -1.44051486e+06,  5.46022650e+04,\n",
            "        -5.85097060e+05],\n",
            "       [ 1.94362519e+04,  2.98675022e+04,  1.67032793e+04,\n",
            "        -1.95380700e+05, -4.17192101e+04, -1.32154847e+05,\n",
            "        -2.24976517e+05, -7.56844757e+04, -1.31655190e+04,\n",
            "        -1.05944616e+05,  6.36732186e+05,  3.59133837e+05,\n",
            "         8.84562098e+05,  1.24141827e+05,  2.92989774e+05,\n",
            "         3.76568717e+05,  1.82469890e+05,  1.27864447e+05,\n",
            "         4.74014944e+04, -6.60785991e+04,  1.83920808e+05,\n",
            "        -6.94533819e+05, -5.47012473e+05, -1.17956228e+06,\n",
            "        -4.31469182e+05, -8.52405829e+05, -7.43901442e+04,\n",
            "        -2.78322875e+05],\n",
            "       [ 3.14469047e+04,  1.84595479e+04,  6.37042920e+04,\n",
            "        -2.66270834e+05, -4.87220316e+04, -2.40880395e+05,\n",
            "        -1.25520758e+05, -4.00858466e+05, -4.03702731e+04,\n",
            "        -2.64322907e+05,  6.80309309e+05,  4.72490643e+05,\n",
            "         1.49549321e+06,  2.74938152e+05,  6.07565369e+05,\n",
            "         1.82469890e+05,  7.41411164e+05,  5.57165443e+05,\n",
            "         5.05878590e+05, -4.28065691e+05,  1.71130712e+05,\n",
            "        -5.50862738e+05, -9.20639612e+05, -2.18672171e+06,\n",
            "        -1.01953222e+06, -1.48561251e+06,  2.12069213e+05,\n",
            "        -3.68856472e+05],\n",
            "       [ 2.28766701e+04,  2.11414264e+04,  4.92590759e+04,\n",
            "        -1.84627656e+05, -3.63253336e+04, -1.94089223e+05,\n",
            "        -1.15697555e+05, -2.98374528e+05, -7.90980241e+04,\n",
            "        -2.31670943e+05,  4.72927408e+05,  3.77965296e+05,\n",
            "         1.20389723e+06,  2.18265326e+05,  5.17369146e+05,\n",
            "         1.27864447e+05,  5.57165443e+05,  7.70176426e+05,\n",
            "         5.28238034e+05, -4.36927475e+05,  1.30759052e+05,\n",
            "        -3.76756457e+05, -6.92611100e+05, -1.95215174e+06,\n",
            "        -1.19703127e+06, -1.28101078e+06,  3.68959326e+05,\n",
            "        -2.86456222e+05],\n",
            "       [ 2.06724231e+04,  6.54369489e+03,  4.83916820e+04,\n",
            "        -1.87808059e+05, -3.00454679e+04, -1.22790665e+05,\n",
            "        -4.81010212e+04, -3.68875888e+05,  5.04936025e+03,\n",
            "        -1.22743501e+05,  4.79386585e+05,  3.27607815e+05,\n",
            "         9.12474310e+05,  1.08681163e+05,  2.44532517e+05,\n",
            "         4.74014944e+04,  5.05878590e+05,  5.28238034e+05,\n",
            "         7.62524996e+05, -3.91673674e+05, -9.64964390e+04,\n",
            "        -3.65100203e+05, -5.39958981e+05, -1.46734608e+06,\n",
            "        -1.02289445e+06, -1.09111148e+06,  3.71680268e+05,\n",
            "         4.08312249e+04],\n",
            "       [-1.21562796e+04, -6.20766499e+03, -3.46812158e+04,\n",
            "         1.03321930e+05,  1.37207103e+04,  1.00368371e+05,\n",
            "         4.91617690e+04,  2.24966497e+05, -7.12255132e+03,\n",
            "         1.42372065e+05, -2.69784218e+05, -2.30474418e+05,\n",
            "        -7.45467521e+05, -1.16647620e+05, -2.81253860e+05,\n",
            "        -6.60785991e+04, -4.28065691e+05, -4.36927475e+05,\n",
            "        -3.91673674e+05,  3.52392072e+05, -6.44247167e+04,\n",
            "         2.29258551e+05,  5.25879020e+05,  1.23026585e+06,\n",
            "         6.96373632e+05,  9.06177473e+05, -2.20405882e+05,\n",
            "         1.50667040e+05],\n",
            "       [ 1.22294868e+04,  1.77456963e+04,  1.87249270e+04,\n",
            "        -1.09539266e+05, -3.47148233e+04, -9.90081836e+04,\n",
            "        -1.18275130e+05, -4.89606671e+04, -4.98283848e+04,\n",
            "        -1.47754282e+05,  3.15970681e+05,  1.82825174e+05,\n",
            "         6.26818388e+05,  1.92248184e+05,  2.80267163e+05,\n",
            "         1.83920808e+05,  1.71130712e+05,  1.30759052e+05,\n",
            "        -9.64964390e+04, -6.44247167e+04,  2.55483941e+05,\n",
            "        -2.95734359e+05, -3.02022462e+05, -8.87953912e+05,\n",
            "        -2.50972250e+05, -4.47687426e+05, -9.35797309e+04,\n",
            "        -3.26580930e+05],\n",
            "       [-5.43110802e+04, -5.47260901e+04, -5.53884037e+04,\n",
            "         5.81167578e+05,  1.03583336e+05,  3.42596877e+05,\n",
            "         4.16998389e+05,  3.02675092e+05,  1.90342948e+04,\n",
            "         2.46155024e+05, -1.89338175e+06, -9.27688739e+05,\n",
            "        -2.29939126e+06, -3.34257307e+05, -7.38673324e+05,\n",
            "        -6.94533819e+05, -5.50862738e+05, -3.76756457e+05,\n",
            "        -3.65100203e+05,  2.29258551e+05, -2.95734359e+05,\n",
            "         1.97606516e+06,  1.51598046e+06,  3.03022128e+06,\n",
            "         1.08596674e+06,  2.30351375e+06,  1.97473720e+05,\n",
            "         5.71143613e+05],\n",
            "       [-5.42501053e+04, -4.93867723e+04, -7.76981257e+04,\n",
            "         5.05783856e+05,  8.42945901e+04,  4.05250144e+05,\n",
            "         3.47245046e+05,  4.58498029e+05,  3.76817739e+04,\n",
            "         3.45627941e+05, -1.51384617e+06, -9.33157124e+05,\n",
            "        -2.51701695e+06, -3.65501350e+05, -9.87102054e+05,\n",
            "        -5.47012473e+05, -9.20639612e+05, -6.92611100e+05,\n",
            "        -5.39958981e+05,  5.25879020e+05, -3.02022462e+05,\n",
            "         1.51598046e+06,  1.80930359e+06,  3.39826942e+06,\n",
            "         1.26433400e+06,  2.62623531e+06, -6.80227224e+04,\n",
            "         6.86085875e+05],\n",
            "       [-1.27472378e+05, -1.14584339e+05, -2.09699599e+05,\n",
            "         1.16916786e+06,  2.42045279e+05,  9.34537776e+05,\n",
            "         7.82634428e+05,  1.18154460e+06,  2.33700803e+05,\n",
            "         9.81663874e+05, -3.32673245e+06, -1.99203367e+06,\n",
            "        -5.86181397e+06, -1.13813687e+06, -2.29702872e+06,\n",
            "        -1.17956228e+06, -2.18672171e+06, -1.95215174e+06,\n",
            "        -1.46734608e+06,  1.23026585e+06, -8.87953912e+05,\n",
            "         3.03022128e+06,  3.39826942e+06,  8.49423088e+06,\n",
            "         3.84269049e+06,  5.56343337e+06, -3.92123526e+05,\n",
            "         1.61478143e+06],\n",
            "       [-5.00970130e+04, -4.52748425e+04, -9.51598430e+04,\n",
            "         4.52415252e+05,  8.11353134e+04,  3.64235745e+05,\n",
            "         3.03257899e+05,  5.86995868e+05,  1.00249879e+05,\n",
            "         4.13244202e+05, -1.25426130e+06, -7.82566941e+05,\n",
            "        -2.40994147e+06, -4.15070809e+05, -8.82312644e+05,\n",
            "        -4.31469182e+05, -1.01953222e+06, -1.19703127e+06,\n",
            "        -1.02289445e+06,  6.96373632e+05, -2.50972250e+05,\n",
            "         1.08596674e+06,  1.26433400e+06,  3.84269049e+06,\n",
            "         2.32606364e+06,  2.47241238e+06, -5.40235164e+05,\n",
            "         4.83274915e+05],\n",
            "       [-8.32164723e+04, -7.65376239e+04, -1.28641676e+05,\n",
            "         7.88145143e+05,  1.36297157e+05,  6.00294397e+05,\n",
            "         5.46592647e+05,  7.83961899e+05,  6.24469179e+04,\n",
            "         5.57526493e+05, -2.34894704e+06, -1.43374304e+06,\n",
            "        -3.92800418e+06, -5.80628221e+05, -1.44051486e+06,\n",
            "        -8.52405829e+05, -1.48561251e+06, -1.28101078e+06,\n",
            "        -1.09111148e+06,  9.06177473e+05, -4.47687426e+05,\n",
            "         2.30351375e+06,  2.62623531e+06,  5.56343337e+06,\n",
            "         2.47241238e+06,  4.14012989e+06, -3.00489035e+05,\n",
            "         9.52054415e+05],\n",
            "       [ 1.22453535e+02, -1.27739360e+03,  1.48333042e+04,\n",
            "         2.63490207e+04,  9.01939458e+03, -1.81805272e+04,\n",
            "         2.76435886e+04, -1.41829075e+05, -2.11668525e+04,\n",
            "        -3.67321313e+04, -1.46772139e+05,  2.80466423e+04,\n",
            "         1.42227098e+05, -1.71457774e+04,  5.46022650e+04,\n",
            "        -7.43901442e+04,  2.12069213e+05,  3.68959326e+05,\n",
            "         3.71680268e+05, -2.20405882e+05, -9.35797309e+04,\n",
            "         1.97473720e+05, -6.80227224e+04, -3.92123526e+05,\n",
            "        -5.40235164e+05, -3.00489035e+05,  3.52335305e+05,\n",
            "         9.56307871e+04],\n",
            "       [-2.38654291e+04, -2.69146989e+04, -3.00826855e+04,\n",
            "         2.10036588e+05,  5.34827173e+04,  2.13013549e+05,\n",
            "         1.79093849e+05,  1.24669442e+05,  7.46856749e+04,\n",
            "         2.18042304e+05, -6.06585326e+05, -3.70348979e+05,\n",
            "        -1.16009956e+06, -2.82798020e+05, -5.85097060e+05,\n",
            "        -2.78322875e+05, -3.68856472e+05, -2.86456222e+05,\n",
            "         4.08312249e+04,  1.50667040e+05, -3.26580930e+05,\n",
            "         5.71143613e+05,  6.86085875e+05,  1.61478143e+06,\n",
            "         4.83274915e+05,  9.52054415e+05,  9.56307871e+04,\n",
            "         5.48026171e+05]])\n",
            "      jac: array([-4.22631389e-05, -9.90512640e-06,  3.99918455e-06, -1.97822731e-05,\n",
            "        1.54287361e-05, -1.39233947e-05, -3.46385888e-06,  4.58889296e-06,\n",
            "        3.76382502e-06, -8.57341629e-06, -3.09937123e-06,  5.51629793e-06,\n",
            "        5.73425335e-07, -3.38097283e-06,  3.06507937e-06, -7.13384882e-06,\n",
            "       -5.00539951e-06, -1.49089771e-05,  3.20650586e-06, -1.80025899e-05,\n",
            "        7.22022679e-06, -9.19178198e-06,  1.56003133e-05,  3.68278167e-06,\n",
            "        5.13423335e-06, -4.09291572e-06,  2.35439057e-05, -1.25930774e-05])\n",
            "  message: 'Maximum number of iterations has been exceeded.'\n",
            "     nfev: 401\n",
            "      nit: 400\n",
            "     njev: 401\n",
            "   status: 1\n",
            "  success: False\n",
            "        x: array([   9.22023921,    6.15898839,    9.24701393,  -82.44791356,\n",
            "        -20.70919217,  -34.33103493,  -49.01901043,  -17.18811681,\n",
            "         21.85608077,  -28.71956714,  273.84923392,  122.17299432,\n",
            "        266.90429752,   36.65785715,   55.01282662,   93.80020803,\n",
            "         49.37947454,   27.37387085,   13.15148144,  -37.43362149,\n",
            "         54.56926348, -310.11930182, -218.82919467, -350.75573692,\n",
            "        -72.30930815, -318.04748815,  -70.78400786,  -72.28644248])\n"
          ]
        }
      ]
    },
    {
      "cell_type": "markdown",
      "source": [
        "*Step-3.4: Build a Classification Model:* Let's implement a classification function that compares the probability of being in a class with some threshold and then returns the class label. "
      ],
      "metadata": {
        "id": "PZh8IfDxlLtJ"
      }
    },
    {
      "cell_type": "code",
      "source": [
        "def classify(theta, X_poly, threshold=0.5):\n",
        "    p = sigmoid(X_poly.dot(theta.T)) >= threshold\n",
        "    return(p.astype('int'))"
      ],
      "metadata": {
        "id": "YIvjbF-9lVWA"
      },
      "execution_count": null,
      "outputs": []
    },
    {
      "cell_type": "markdown",
      "source": [
        "Now, let's use the classify function and find the accuracy of our classification. "
      ],
      "metadata": {
        "id": "eOpnQ3HLldcV"
      }
    },
    {
      "cell_type": "code",
      "source": [
        "p = classify(opt_theta.x, X_poly) \n",
        "print('Train accuracy {}%'.format(100*sum(p == y.ravel())/p.size))"
      ],
      "metadata": {
        "colab": {
          "base_uri": "https://localhost:8080/"
        },
        "id": "bWIxvk08ludS",
        "outputId": "b68801b7-0a7e-4aac-c068-44e6c9d5c2f8"
      },
      "execution_count": null,
      "outputs": [
        {
          "output_type": "stream",
          "name": "stdout",
          "text": [
            "Train accuracy 88.13559322033899%\n"
          ]
        }
      ]
    },
    {
      "cell_type": "markdown",
      "source": [
        "*Step-3.5: Plot the Decision Boundary:* Let's plot the decision boundary."
      ],
      "metadata": {
        "id": "mJ4isJbPmR7z"
      }
    },
    {
      "cell_type": "code",
      "source": [
        "plotData(data2, 'Test 1 score', 'Test 2 score', 'Accepted', 'Rejected')\n",
        "x1_min, x1_max = X_poly[:,1].min(), X_poly[:,1].max(),\n",
        "x2_min, x2_max = X_poly[:,2].min(), X_poly[:,2].max(),\n",
        "xx1, xx2 = np.meshgrid(np.linspace(x1_min, x1_max), np.linspace(x2_min, x2_max))\n",
        "f = sigmoid(poly.fit_transform(np.c_[xx1.ravel(), xx2.ravel()]).dot(opt_theta.x))\n",
        "f = f.reshape(xx1.shape)  \n",
        "plt.contour(xx1, xx2, f, [0.5], linewidths=1, colors='b');"
      ],
      "metadata": {
        "colab": {
          "base_uri": "https://localhost:8080/",
          "height": 314
        },
        "id": "m8Pwer-1mad9",
        "outputId": "ed396286-e9e0-460a-c6cf-e92e70fc4326"
      },
      "execution_count": null,
      "outputs": [
        {
          "output_type": "stream",
          "name": "stderr",
          "text": [
            "<ipython-input-262-71a3b42dc05c>:2: RuntimeWarning: overflow encountered in exp\n",
            "  return(1 / (1 + np.exp(-z)))\n"
          ]
        },
        {
          "output_type": "display_data",
          "data": {
            "text/plain": [
              "<Figure size 432x288 with 1 Axes>"
            ],
            "image/png": "[encoded data removed]"
          },
          "metadata": {
            "needs_background": "light"
          }
        }
      ]
    },
    {
      "cell_type": "code",
      "source": [
        "reg = 1\n",
        "cost = costFunction(initial_theta, X_poly, y, reg)\n",
        "grad = gradient(initial_theta, X_poly, y, reg)\n",
        "\n",
        "opt_theta = minimize(costFunction, initial_theta, args=(X_poly,y, reg), method=None, jac=gradient, options={'maxiter':400})\n",
        "p = classify(opt_theta.x, X_poly) \n",
        "print('Train accuracy {}%'.format(100*sum(p == y.ravel())/p.size))\n",
        "plotData(data2, 'Test 1 score', 'Test 2 score', 'Accepted', 'Rejected')\n",
        "x1_min, x1_max = X_poly[:,1].min(), X_poly[:,1].max(),\n",
        "x2_min, x2_max = X_poly[:,2].min(), X_poly[:,2].max(),\n",
        "xx1, xx2 = np.meshgrid(np.linspace(x1_min, x1_max), np.linspace(x2_min, x2_max))\n",
        "f = sigmoid(poly.fit_transform(np.c_[xx1.ravel(), xx2.ravel()]).dot(opt_theta.x))\n",
        "f = f.reshape(xx1.shape)  \n",
        "plt.contour(xx1, xx2, f, [0.5], linewidths=1, colors='b');"
      ],
      "metadata": {
        "colab": {
          "base_uri": "https://localhost:8080/",
          "height": 296
        },
        "id": "1m_uRYfkwPhZ",
        "outputId": "660ffd7e-2412-4c91-a189-c6dc8d74df1e"
      },
      "execution_count": null,
      "outputs": [
        {
          "output_type": "stream",
          "name": "stdout",
          "text": [
            "Train accuracy 83.05084745762711%\n"
          ]
        },
        {
          "output_type": "display_data",
          "data": {
            "text/plain": [
              "<Figure size 432x288 with 1 Axes>"
            ],
            "image/png": "[encoded data removed]"
          },
          "metadata": {
            "needs_background": "light"
          }
        }
      ]
    },
    {
      "cell_type": "code",
      "source": [
        "reg = 100\n",
        "cost = costFunction(initial_theta, X_poly, y, reg)\n",
        "grad = gradient(initial_theta, X_poly, y, reg)\n",
        "\n",
        "opt_theta = minimize(costFunction, initial_theta, args=(X_poly,y, reg), method=None, jac=gradient, options={'maxiter':400})\n",
        "p = classify(opt_theta.x, X_poly) \n",
        "print('Train accuracy {}%'.format(100*sum(p == y.ravel())/p.size))\n",
        "plotData(data2, 'Test 1 score', 'Test 2 score', 'Accepted', 'Rejected')\n",
        "x1_min, x1_max = X_poly[:,1].min(), X_poly[:,1].max(),\n",
        "x2_min, x2_max = X_poly[:,2].min(), X_poly[:,2].max(),\n",
        "xx1, xx2 = np.meshgrid(np.linspace(x1_min, x1_max), np.linspace(x2_min, x2_max))\n",
        "f = sigmoid(poly.fit_transform(np.c_[xx1.ravel(), xx2.ravel()]).dot(opt_theta.x))\n",
        "f = f.reshape(xx1.shape)  \n",
        "plt.contour(xx1, xx2, f, [0.5], linewidths=1, colors='b');"
      ],
      "metadata": {
        "colab": {
          "base_uri": "https://localhost:8080/",
          "height": 296
        },
        "id": "LupFrY34wf6l",
        "outputId": "3e3c234a-3e1d-4f8a-cb75-5a379c7d4d75"
      },
      "execution_count": null,
      "outputs": [
        {
          "output_type": "stream",
          "name": "stdout",
          "text": [
            "Train accuracy 61.016949152542374%\n"
          ]
        },
        {
          "output_type": "display_data",
          "data": {
            "text/plain": [
              "<Figure size 432x288 with 1 Axes>"
            ],
            "image/png": "[encoded data removed]"
          },
          "metadata": {
            "needs_background": "light"
          }
        }
      ]
    },
    {
      "cell_type": "markdown",
      "source": [
        "#Analysis Of Model\n",
        "There are 3 different values of regularization parameter being used, 0, 1, and 100. Therefore, the plots will have different shapes. \n",
        "\n",
        "When reg = 0, the plot shows a somewhat wobbly circle centered in the graph. The wobbly shape is caused by the training data being overfitted. \n",
        "\n",
        "When reg = 1, the shape of the circle is firm and covers most of the accepted data which means that our model is learning the decision boundary that generalizes better with new data. \n",
        "\n",
        "When reg = 100, the decision boundary shifts to the bottom left corner. This indicates that the training data is being underfitted. \n",
        "\n",
        "Although the decision boundary fits best when reg = 0, the model is too complex and it is fitting the noise in the data. Hence, the best accuracy is when lambda/reg = 1 which excludes the noise in the data, thus, providing the most accurate result. "
      ],
      "metadata": {
        "id": "JfW462BfzF9X"
      }
    },
    {
      "cell_type": "markdown",
      "source": [
        "**Built-in Logistic Regression Function:** Let's use the built-in function in python for logistic regression. "
      ],
      "metadata": {
        "id": "NinifFsHnE6d"
      }
    },
    {
      "cell_type": "markdown",
      "source": [
        "*1-Import Libraries:*"
      ],
      "metadata": {
        "id": "WJuFJWKloF9s"
      }
    },
    {
      "cell_type": "code",
      "source": [
        "from sklearn.linear_model import LogisticRegression\n",
        "from sklearn import metrics"
      ],
      "metadata": {
        "id": "SNAuYsf0oLwK"
      },
      "execution_count": null,
      "outputs": []
    },
    {
      "cell_type": "markdown",
      "source": [
        "*2-Train the Model:*"
      ],
      "metadata": {
        "id": "xcRUWVQZoOJw"
      }
    },
    {
      "cell_type": "code",
      "source": [
        "logisticRegr = LogisticRegression()\n",
        "logisticRegr.fit(X_poly, y)"
      ],
      "metadata": {
        "colab": {
          "base_uri": "https://localhost:8080/"
        },
        "id": "aBi4XP-7oTM4",
        "outputId": "e884285c-cca1-44b7-c7f5-55c803e93366"
      },
      "execution_count": null,
      "outputs": [
        {
          "output_type": "stream",
          "name": "stderr",
          "text": [
            "/usr/local/lib/python3.8/dist-packages/sklearn/utils/validation.py:993: DataConversionWarning: A column-vector y was passed when a 1d array was expected. Please change the shape of y to (n_samples, ), for example using ravel().\n",
            "  y = column_or_1d(y, warn=True)\n"
          ]
        },
        {
          "output_type": "execute_result",
          "data": {
            "text/plain": [
              "LogisticRegression()"
            ]
          },
          "metadata": {},
          "execution_count": 277
        }
      ]
    },
    {
      "cell_type": "markdown",
      "source": [
        "*3-Test the Model:*"
      ],
      "metadata": {
        "id": "z_NncrdGoW8S"
      }
    },
    {
      "cell_type": "code",
      "source": [
        "predictions = logisticRegr.predict(X_poly)"
      ],
      "metadata": {
        "id": "dnsAHGj7obOm"
      },
      "execution_count": null,
      "outputs": []
    },
    {
      "cell_type": "markdown",
      "source": [
        "*4-Evaluate the Model:*"
      ],
      "metadata": {
        "id": "FXl_5CVYodbY"
      }
    },
    {
      "cell_type": "code",
      "source": [
        "score = logisticRegr.score(X_poly, y)\n",
        "print(score)"
      ],
      "metadata": {
        "colab": {
          "base_uri": "https://localhost:8080/"
        },
        "id": "Gx9hZinCogWz",
        "outputId": "0b30884f-0e45-4a11-bc76-0d8b34afd942"
      },
      "execution_count": null,
      "outputs": [
        {
          "output_type": "stream",
          "name": "stdout",
          "text": [
            "0.8305084745762712\n"
          ]
        }
      ]
    },
    {
      "cell_type": "markdown",
      "source": [
        "**This is the same score we got using the model we developed from scratch!**"
      ],
      "metadata": {
        "id": "YT0F3skhomtk"
      }
    },
    {
      "cell_type": "code",
      "source": [
        "cm = metrics.confusion_matrix(y, predictions)\n",
        "print(cm)"
      ],
      "metadata": {
        "colab": {
          "base_uri": "https://localhost:8080/"
        },
        "id": "2VxXY5Y8nSw1",
        "outputId": "5a1d4329-e2a4-40ae-aaed-ff59ee018932"
      },
      "execution_count": null,
      "outputs": [
        {
          "output_type": "stream",
          "name": "stdout",
          "text": [
            "[[45 15]\n",
            " [ 5 53]]\n"
          ]
        }
      ]
    }
  ]
}